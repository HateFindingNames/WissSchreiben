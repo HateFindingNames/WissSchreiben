{
 "cells": [
  {
   "cell_type": "code",
   "execution_count": 1,
   "metadata": {},
   "outputs": [],
   "source": [
    "import pandas as pd\n",
    "import numpy as np\n",
    "import plotly.express as px\n",
    "import pycountry"
   ]
  },
  {
   "cell_type": "code",
   "execution_count": 2,
   "metadata": {},
   "outputs": [],
   "source": [
    "import os\n",
    "\n",
    "if not os.path.exists(\"images\"):\n",
    "    os.mkdir(\"images\")"
   ]
  },
  {
   "cell_type": "code",
   "execution_count": 3,
   "metadata": {},
   "outputs": [],
   "source": [
    "isomap = pd.read_csv(\"isomap.csv\", sep=\",\")\n",
    "isomap.set_index(\"Name\", inplace=True)"
   ]
  },
  {
   "cell_type": "code",
   "execution_count": 4,
   "metadata": {},
   "outputs": [
    {
     "name": "stdout",
     "output_type": "stream",
     "text": [
      "       Country  pGDP\n",
      "0        Aruba  0.77\n",
      "1  Afghanistan  0.09\n",
      "2       Angola -2.18\n"
     ]
    }
   ],
   "source": [
    "data = pd.read_csv(\"ClimateImpactLab_GlobalData_20March2023.csv\", sep=\",\")\n",
    "print(data[:3])"
   ]
  },
  {
   "cell_type": "code",
   "execution_count": 21,
   "metadata": {},
   "outputs": [
    {
     "name": "stdout",
     "output_type": "stream",
     "text": [
      "  Country  pGDP\n",
      "0     ABW  0.77\n",
      "1     AFG  0.09\n",
      "2     AGO -2.18\n"
     ]
    }
   ],
   "source": [
    "for i, row in data.iterrows():\n",
    "    # print(isomap[\"al3\"].loc[row[\"Country\"]])\n",
    "    data[\"Country\"] = data[\"Country\"].str.replace(row[\"Country\"], isomap[\"al3\"].loc[row[\"Country\"]])\n",
    "print(data[:3])"
   ]
  },
  {
   "cell_type": "code",
   "execution_count": 23,
   "metadata": {},
   "outputs": [],
   "source": [
    "mycolor = [\n",
    "    \"royalblue\",\n",
    "    \"dodgerblue\",\n",
    "    \"deepskyblue\",\n",
    "    \"lightskyblue\",\n",
    "    \"lightblue\",\n",
    "    \"powderblue\",\n",
    "    \"cornsilk\",\n",
    "    \"bisque\",\n",
    "    \"goldenrod\",\n",
    "    \"peru\",\n",
    "    \"chocolate\",\n",
    "    \"saddlebrown\",\n",
    "    \"maroon\"\n",
    "]\n",
    "# projections: https://etpinard.github.io/plotly-dashboards/map-projections/\n",
    "fig = px.choropleth(data, locations='Country', locationmode=\"ISO-3\", color=\"pGDP\", hover_name='pGDP', projection='natural earth', title=None, color_continuous_scale=mycolor)\n",
    "# fig.show()\n",
    "fig.write_image(\"images/fig1.svg\")\n",
    "# fig.write_image(\"images/fig1.jpg\")"
   ]
  }
 ],
 "metadata": {
  "kernelspec": {
   "display_name": "base",
   "language": "python",
   "name": "python3"
  },
  "language_info": {
   "codemirror_mode": {
    "name": "ipython",
    "version": 3
   },
   "file_extension": ".py",
   "mimetype": "text/x-python",
   "name": "python",
   "nbconvert_exporter": "python",
   "pygments_lexer": "ipython3",
   "version": "3.11.4"
  }
 },
 "nbformat": 4,
 "nbformat_minor": 2
}
