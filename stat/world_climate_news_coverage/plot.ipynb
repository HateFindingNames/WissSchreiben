{
 "cells": [
  {
   "cell_type": "code",
   "execution_count": 1,
   "metadata": {},
   "outputs": [],
   "source": [
    "import pandas as pd\n",
    "import numpy as np\n",
    "import plotly.express as px\n",
    "import pycountry"
   ]
  },
  {
   "cell_type": "code",
   "execution_count": 2,
   "metadata": {},
   "outputs": [],
   "source": [
    "import os\n",
    "\n",
    "if not os.path.exists(\"images\"):\n",
    "    os.mkdir(\"images\")"
   ]
  },
  {
   "cell_type": "code",
   "execution_count": 3,
   "metadata": {},
   "outputs": [],
   "source": [
    "def mkdf(filename):\n",
    "    df = pd.read_csv(filename)\n",
    "    cols = df.columns\n",
    "    data = df.loc[:, cols[1:]].sum(axis=1).tolist()\n",
    "    total = data.pop(-1)\n",
    "    locations = df[\"ctry\"].tolist()\n",
    "    locations.pop(-1)\n",
    "    for i,location in enumerate(locations):\n",
    "        try:\n",
    "            if location == pycountry.countries.get(alpha_3=location).alpha_3:\n",
    "                # print(f\"{location} is alpha3, skipping.\")\n",
    "                continue\n",
    "        except AttributeError:\n",
    "            # print(f\"{i}, {location}\")\n",
    "            pass\n",
    "        try:\n",
    "            locations[i] = pycountry.countries.get(name=location).alpha_3\n",
    "        except AttributeError:\n",
    "            print(f\"No name for {location}.\")\n",
    "            try:\n",
    "                locations[i] = pycountry.countries.get(official_name=location).alpha_3\n",
    "                pass\n",
    "            except AttributeError:\n",
    "                print(f\"No official name for {location} either, Duh...\")\n",
    "\n",
    "    dict = {\"Country\": locations, \"Frequency\": data}\n",
    "    out = pd.DataFrame(dict).groupby(['Country'],as_index=False).agg({'Frequency': 'sum'})\n",
    "    # data.groupby(['Country'],as_index=False).agg({'Frequency': 'sum'})\n",
    "    return out"
   ]
  },
  {
   "cell_type": "code",
   "execution_count": 4,
   "metadata": {},
   "outputs": [],
   "source": [
    "africa = mkdf(\"africa_dataset.csv\")\n",
    "asia = mkdf(\"asia_dataset.csv\")\n",
    "europe = mkdf(\"europe_dataset.csv\")\n",
    "latin_america = mkdf(\"latin_america_dataset.csv\")\n",
    "middle_east = mkdf(\"middle_east_dataset.csv\")\n",
    "north_america = mkdf(\"north_america_dataset.csv\")\n",
    "oceania = mkdf(\"oceania_dataset.csv\")"
   ]
  },
  {
   "cell_type": "code",
   "execution_count": 5,
   "metadata": {},
   "outputs": [],
   "source": [
    "data = pd.concat([africa, asia, europe, latin_america, middle_east, north_america, oceania])"
   ]
  },
  {
   "cell_type": "code",
   "execution_count": 32,
   "metadata": {},
   "outputs": [],
   "source": [
    "mycolor = [\n",
    "    \"cornsilk\",\n",
    "    \"bisque\",\n",
    "    \"goldenrod\",\n",
    "    \"peru\",\n",
    "    \"chocolate\",\n",
    "    \"saddlebrown\",\n",
    "    \"maroon\"\n",
    "]\n",
    "# projections: https://etpinard.github.io/plotly-dashboards/map-projections/\n",
    "fig = px.choropleth(data, locations='Country', locationmode=\"ISO-3\", color=\"Frequency\", hover_name='Country', projection='natural earth', title=None, color_continuous_scale=mycolor)\n",
    "# fig.show()\n",
    "fig.write_image(\"images/fig1.svg\")\n",
    "# fig.write_image(\"images/fig1.jpg\")"
   ]
  }
 ],
 "metadata": {
  "kernelspec": {
   "display_name": "base",
   "language": "python",
   "name": "python3"
  },
  "language_info": {
   "codemirror_mode": {
    "name": "ipython",
    "version": 3
   },
   "file_extension": ".py",
   "mimetype": "text/x-python",
   "name": "python",
   "nbconvert_exporter": "python",
   "pygments_lexer": "ipython3",
   "version": "3.11.4"
  }
 },
 "nbformat": 4,
 "nbformat_minor": 2
}
